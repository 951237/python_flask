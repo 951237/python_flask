{
  "nbformat": 4,
  "nbformat_minor": 0,
  "metadata": {
    "colab": {
      "name": "201009_TIL_원격수업 퀴즈 응답 정리_56학년 전체.ipynb",
      "provenance": [],
      "mount_file_id": "1FpgrIRoS8WvqZtSUeS6DA-Z9s3Whfl-X",
      "authorship_tag": "ABX9TyP2y6RjD38fZUqXCvWAeji1",
      "include_colab_link": true
    },
    "kernelspec": {
      "name": "python3",
      "display_name": "Python 3"
    }
  },
  "cells": [
    {
      "cell_type": "markdown",
      "metadata": {
        "id": "view-in-github",
        "colab_type": "text"
      },
      "source": [
        "<a href=\"https://colab.research.google.com/github/951237/python_flask/blob/master/201009_TIL_%EC%9B%90%EA%B2%A9%EC%88%98%EC%97%85_%ED%80%B4%EC%A6%88_%EC%9D%91%EB%8B%B5_%EC%A0%95%EB%A6%AC_56%ED%95%99%EB%85%84_%EC%A0%84%EC%B2%B4.ipynb\" target=\"_parent\"><img src=\"https://colab.research.google.com/assets/colab-badge.svg\" alt=\"Open In Colab\"/></a>"
      ]
    },
    {
      "cell_type": "markdown",
      "metadata": {
        "id": "gySOuJyhH47s"
      },
      "source": [
        "# 20.10.8 작업분량\n"
      ]
    },
    {
      "cell_type": "code",
      "metadata": {
        "id": "bTJ-nht3fM6H",
        "outputId": "160312c3-8c77-4784-9242-4393448b0ce5",
        "colab": {
          "base_uri": "https://localhost:8080/",
          "height": 479
        }
      },
      "source": [
        "import pandas as pd\n",
        "import glob\n",
        "\n",
        "# 경로 설정하기 \n",
        "PATH_NAME_LIST = \"/content/drive/My Drive/data/hakhyun/학현초_학생명부_200420.xlsx\"\n",
        "DIC_PATH = {\n",
        "    \"5\" : '/content/drive/My Drive/data/학현초_원격수업 구글설문 응답_201007/원격수업_52_과_응답모음.xlsx',\n",
        "    '6' : '/content/drive/My Drive/data/학현초_원격수업 구글설문 응답_201007/원격수업_62_과_응답모음.xlsx'\n",
        "}\n",
        "\n",
        "# 명부 만들기\n",
        "df_namelist = pd.read_excel(PATH_NAME_LIST)\n",
        "\n",
        "for k, v in DIC_PATH.items():\n",
        "    # 6학년 명부만 만들기\n",
        "    df_namelist_six = df_namelist.loc[df_namelist['학년']== int(k)]\n",
        "    # 엑셀파일의 시트 이름 알아내기\n",
        "    xls = pd.ExcelFile(v)\n",
        "    sht_name = sorted(xls.sheet_names)\n",
        "    print(f'{k}학년 파일 시트명 : {sht_name}', '\\n') # 엑셀파일 시트 이름 \n",
        "\n",
        "    # 엑셀의 모든 시트를 하나의 데이터 프레임으로 합치기 / 합치면서 시트이름을 표시\n",
        "    out_df = pd.DataFrame()\n",
        "    for sheet in sht_name:\n",
        "        df = pd.read_excel(v, sheet_name=sheet)\n",
        "        df['sheet'] = sheet\n",
        "        out_df = pd.concat([out_df, df], axis=0, ignore_index=True) # 칼럼이 일치하지 않더라도 합치기\n",
        "\n",
        "    # 필요한 칼럼만 선택하여 저장\n",
        "    df_respons = out_df[['* 학년 반을 선택하시오.', '번호를 입력하시오.', '이름을 입력하시오.', 'sheet' ]].copy()\n",
        "\n",
        "    # 칼럼 이름 바꾸기\n",
        "    df_respons = df_respons.rename(columns={'* 학년 반을 선택하시오.' : '학년반', '번호를 입력하시오.' : \"번호\", '이름을 입력하시오.' : \"이름\", 'sheet' : \"단원\"})\n",
        "\n",
        "    # 칼럼을 나누기\n",
        "    df_respons[['학년', '반']]=df_respons['학년반'].str.split(\"-\", expand=True)\n",
        "\n",
        "    # 필요없는 칼럼 삭제\n",
        "    del df_respons['학년반']\n",
        "\n",
        "    # 칼럼 재정렬\n",
        "    df_respons = df_respons[['학년', '반', '번호', '이름', '단원']]\n",
        "\n",
        "    #name list add columns\n",
        "    df_namelist_six = df_namelist_six[['학년', '반', '번호', '성명']]\n",
        "\n",
        "    # 칼럼이름 재조정\n",
        "    df_namelist_six.columns= ['학년', '반', '번호', '이름']\n",
        "\n",
        "    # 데이터 프레임에 칼럼 만들\n",
        "    for i in sht_name:\n",
        "        df_namelist_six[i] = \"\"\n",
        "\n",
        "    # 단원명을 확인후 이름이 일치하면 해당단원에 제출 기록하기\n",
        "    for i in range(len(df_namelist_six)):\n",
        "        for j in range(len(df_respons)):\n",
        "            for p in range(0, len(sht_name)):\n",
        "                if df_respons.iloc[j, -1] == xls.sheet_names[p]:  # 단원명 확인하기\n",
        "                    if df_namelist_six.iloc[i,3] == df_respons.iloc[j,3]: #이름 확인하기\n",
        "                        df_namelist_six.iloc[i,-1-p] = '제출' # 제출 기록하기\n",
        "    print(df_namelist_six.head(), '\\n')\n",
        "\n",
        "    # 엑셀파일로 저장하기\n",
        "    print(f'{k}학년 결과 파일 생성 완료!', '\\n')\n",
        "    df_namelist_six.to_excel(f'result_{k}.xlsx')"
      ],
      "execution_count": 21,
      "outputs": [
        {
          "output_type": "stream",
          "text": [
            "5학년 파일 시트명 : ['52_과_0202', '52_과_0203', '52_과_0204', '52_과_0205', '52_과_0206', '52_과_0207', '52_과_0208', '52_과_0302', '52_과_0303', '52_과_0304', '52_과_0305', '52_과_0306', '52_과_0307', '52_과_0308'] \n",
            "\n",
            "     학년  반  번호          이름  ... 52_과_0305 52_과_0306 52_과_0307 52_과_0308\n",
            "229   5  1   1         강민지  ...                                        \n",
            "230   5  1   3         고은선  ...                                        \n",
            "231   5  1   4         권준혁  ...                                        \n",
            "232   5  1   5  KIM MILANA  ...                                        \n",
            "233   5  1   6         김현아  ...                                        \n",
            "\n",
            "[5 rows x 18 columns] \n",
            "\n",
            "5학년 결과 파일 생성 완료! \n",
            "\n",
            "6학년 파일 시트명 : ['62_과_0102', '62_과_0103', '62_과_0104', '62_과_0105', '62_과_0106-7', '62_과_0108', '62_과_0202', '62_과_0204', '62_과_0205', '62_과_0206-7'] \n",
            "\n",
            "     학년  반  번호   이름  ... 62_과_0202 62_과_0204 62_과_0205 62_과_0206-7\n",
            "286   6  1   1  고종학  ...                                          \n",
            "287   6  1   2  김수현  ...                                          \n",
            "288   6  1   3  김시우  ...                                          \n",
            "289   6  1   4  김아름  ...                                          \n",
            "290   6  1   5  박상진  ...                                          \n",
            "\n",
            "[5 rows x 14 columns] \n",
            "\n",
            "6학년 결과 파일 생성 완료! \n",
            "\n"
          ],
          "name": "stdout"
        }
      ]
    },
    {
      "cell_type": "code",
      "metadata": {
        "id": "Fj3EPgxIH0Tx"
      },
      "source": [
        ""
      ],
      "execution_count": null,
      "outputs": []
    },
    {
      "cell_type": "markdown",
      "metadata": {
        "id": "kRQORArJIul1"
      },
      "source": [
        "## 코딩 연습장"
      ]
    },
    {
      "cell_type": "code",
      "metadata": {
        "id": "oj4JAB_dbzR4",
        "outputId": "f4c76ccb-70ea-44f9-aef3-26b9be21a731",
        "colab": {
          "base_uri": "https://localhost:8080/",
          "height": 187
        }
      },
      "source": [
        "for i in range(1, 11):\n",
        "    print(-11 + i)"
      ],
      "execution_count": 9,
      "outputs": [
        {
          "output_type": "stream",
          "text": [
            "-10\n",
            "-9\n",
            "-8\n",
            "-7\n",
            "-6\n",
            "-5\n",
            "-4\n",
            "-3\n",
            "-2\n",
            "-1\n"
          ],
          "name": "stdout"
        }
      ]
    },
    {
      "cell_type": "code",
      "metadata": {
        "id": "U_Gun2LE_REw"
      },
      "source": [
        "# 단원별 데이터 프레임 리스트에 담기\n",
        "ls_df = []\n"
      ],
      "execution_count": null,
      "outputs": []
    },
    {
      "cell_type": "code",
      "metadata": {
        "id": "cwsNNA2c7-uq",
        "outputId": "4e8993a9-a73e-416f-e577-38c375575e33",
        "colab": {
          "base_uri": "https://localhost:8080/",
          "height": 37
        }
      },
      "source": [
        "df_0102.iloc[0,0]"
      ],
      "execution_count": null,
      "outputs": [
        {
          "output_type": "execute_result",
          "data": {
            "application/vnd.google.colaboratory.intrinsic+json": {
              "type": "string"
            },
            "text/plain": [
              "'이성진'"
            ]
          },
          "metadata": {
            "tags": []
          },
          "execution_count": 30
        }
      ]
    },
    {
      "cell_type": "code",
      "metadata": {
        "id": "vu40RxU2BSQ7"
      },
      "source": [
        "df_namelist_six.iloc[0,3]"
      ],
      "execution_count": null,
      "outputs": []
    },
    {
      "cell_type": "code",
      "metadata": {
        "id": "yX5C3nOrD10G",
        "outputId": "ba8c061e-0384-42e8-9702-da25cd1f99a3",
        "colab": {
          "base_uri": "https://localhost:8080/",
          "height": 37
        }
      },
      "source": [
        "df_respons.iloc[0,-1]"
      ],
      "execution_count": null,
      "outputs": [
        {
          "output_type": "execute_result",
          "data": {
            "application/vnd.google.colaboratory.intrinsic+json": {
              "type": "string"
            },
            "text/plain": [
              "'62_과_0202'"
            ]
          },
          "metadata": {
            "tags": []
          },
          "execution_count": 60
        }
      ]
    },
    {
      "cell_type": "code",
      "metadata": {
        "id": "h6VmxdtNDH-y",
        "outputId": "f2e7c39b-3691-4b1e-cedb-76d646b59064",
        "colab": {
          "base_uri": "https://localhost:8080/",
          "height": 37
        }
      },
      "source": [
        "df_respons.iloc[0,3]"
      ],
      "execution_count": null,
      "outputs": [
        {
          "output_type": "execute_result",
          "data": {
            "application/vnd.google.colaboratory.intrinsic+json": {
              "type": "string"
            },
            "text/plain": [
              "'박세윤'"
            ]
          },
          "metadata": {
            "tags": []
          },
          "execution_count": 57
        }
      ]
    },
    {
      "cell_type": "code",
      "metadata": {
        "id": "yNyC_jBDGeXd",
        "outputId": "15a4431f-d5db-4a16-f5b4-983bdcb2d60f",
        "colab": {
          "base_uri": "https://localhost:8080/",
          "height": 266
        }
      },
      "source": [
        "# 통계내기\n",
        "df_respons.groupby(by=['단원'], as_index=False ).count()"
      ],
      "execution_count": null,
      "outputs": [
        {
          "output_type": "execute_result",
          "data": {
            "text/html": [
              "<div>\n",
              "<style scoped>\n",
              "    .dataframe tbody tr th:only-of-type {\n",
              "        vertical-align: middle;\n",
              "    }\n",
              "\n",
              "    .dataframe tbody tr th {\n",
              "        vertical-align: top;\n",
              "    }\n",
              "\n",
              "    .dataframe thead th {\n",
              "        text-align: right;\n",
              "    }\n",
              "</style>\n",
              "<table border=\"1\" class=\"dataframe\">\n",
              "  <thead>\n",
              "    <tr style=\"text-align: right;\">\n",
              "      <th></th>\n",
              "      <th>단원</th>\n",
              "      <th>학년</th>\n",
              "      <th>반</th>\n",
              "      <th>번호</th>\n",
              "      <th>이름</th>\n",
              "    </tr>\n",
              "  </thead>\n",
              "  <tbody>\n",
              "    <tr>\n",
              "      <th>0</th>\n",
              "      <td>62_과_0102</td>\n",
              "      <td>55</td>\n",
              "      <td>55</td>\n",
              "      <td>44</td>\n",
              "      <td>44</td>\n",
              "    </tr>\n",
              "    <tr>\n",
              "      <th>1</th>\n",
              "      <td>62_과_0103</td>\n",
              "      <td>47</td>\n",
              "      <td>47</td>\n",
              "      <td>45</td>\n",
              "      <td>45</td>\n",
              "    </tr>\n",
              "    <tr>\n",
              "      <th>2</th>\n",
              "      <td>62_과_0104</td>\n",
              "      <td>32</td>\n",
              "      <td>32</td>\n",
              "      <td>30</td>\n",
              "      <td>30</td>\n",
              "    </tr>\n",
              "    <tr>\n",
              "      <th>3</th>\n",
              "      <td>62_과_0105</td>\n",
              "      <td>52</td>\n",
              "      <td>52</td>\n",
              "      <td>44</td>\n",
              "      <td>44</td>\n",
              "    </tr>\n",
              "    <tr>\n",
              "      <th>4</th>\n",
              "      <td>62_과_0106-7</td>\n",
              "      <td>69</td>\n",
              "      <td>69</td>\n",
              "      <td>62</td>\n",
              "      <td>62</td>\n",
              "    </tr>\n",
              "    <tr>\n",
              "      <th>5</th>\n",
              "      <td>62_과_0108</td>\n",
              "      <td>5</td>\n",
              "      <td>5</td>\n",
              "      <td>5</td>\n",
              "      <td>5</td>\n",
              "    </tr>\n",
              "    <tr>\n",
              "      <th>6</th>\n",
              "      <td>62_과_0202</td>\n",
              "      <td>3</td>\n",
              "      <td>3</td>\n",
              "      <td>3</td>\n",
              "      <td>3</td>\n",
              "    </tr>\n",
              "  </tbody>\n",
              "</table>\n",
              "</div>"
            ],
            "text/plain": [
              "            단원  학년   반  번호  이름\n",
              "0    62_과_0102  55  55  44  44\n",
              "1    62_과_0103  47  47  45  45\n",
              "2    62_과_0104  32  32  30  30\n",
              "3    62_과_0105  52  52  44  44\n",
              "4  62_과_0106-7  69  69  62  62\n",
              "5    62_과_0108   5   5   5   5\n",
              "6    62_과_0202   3   3   3   3"
            ]
          },
          "metadata": {
            "tags": []
          },
          "execution_count": 75
        }
      ]
    },
    {
      "cell_type": "code",
      "metadata": {
        "id": "S-tm9igxBPhZ"
      },
      "source": [
        ""
      ],
      "execution_count": null,
      "outputs": []
    }
  ]
}